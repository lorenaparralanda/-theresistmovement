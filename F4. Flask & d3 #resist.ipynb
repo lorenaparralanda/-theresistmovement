{
 "cells": [
  {
   "cell_type": "markdown",
   "metadata": {},
   "source": [
    "# Create word2vec D3 "
   ]
  },
  {
   "cell_type": "code",
   "execution_count": null,
   "metadata": {
    "collapsed": true
   },
   "outputs": [],
   "source": [
    "import pandas as pd\n",
    "import pickle\n",
    "import re\n",
    "import string\n",
    "import numpy as np\n",
    "import gensim\n",
    "import flask\n",
    "import numpy as np\n",
    "from copy import deepcopy\n",
    "from gensim import corpora, models, similarities, matutils\n",
    "from sklearn import datasets\n",
    "import matplotlib.pyplot as plt\n",
    "\n",
    "\n",
    "# Bring in info for word2vec\n",
    "with open(\"all_words_word2vec.pkl\", 'rb') as picklefile:\n",
    "    all_words_word2vec = pickle.load(picklefile)\n",
    "\n",
    "# Run model\n",
    "word2vec = gensim.models.Word2Vec(all_words_word2vec,min_count=1,workers=2,sg=2,window=5)\n",
    "\n",
    "# Function to find most similar\n",
    "def find_results(t):\n",
    "    results = word2vec.most_similar(str(t), topn=20)\n",
    "    return dict(results)\n",
    "\n",
    "# Initialize the app\n",
    "app = flask.Flask(__name__)\n",
    "\n",
    "# Read html file\n",
    "@app.route(\"/\")\n",
    "def viz_page():\n",
    "    with open(\"index.html\", 'r') as viz_file:\n",
    "        return viz_file.read()\n",
    "\n",
    "# Get data from, run function, return data\n",
    "@app.route(\"/gof\", methods=[\"POST\"])\n",
    "def score():\n",
    "    data = flask.request.json\n",
    "    a = data['text']\n",
    "    d = find_results(a)\n",
    "    return flask.jsonify({'text': d})\n",
    "\n",
    "#--------- RUN WEB APP SERVER ------------#\n",
    "\n",
    "app.run(host='0.0.0.0', port=5006)"
   ]
  }
 ],
 "metadata": {
  "anaconda-cloud": {},
  "kernelspec": {
   "display_name": "Python 2",
   "language": "python",
   "name": "python2"
  },
  "language_info": {
   "codemirror_mode": {
    "name": "ipython",
    "version": 2
   },
   "file_extension": ".py",
   "mimetype": "text/x-python",
   "name": "python",
   "nbconvert_exporter": "python",
   "pygments_lexer": "ipython2",
   "version": "2.7.12"
  }
 },
 "nbformat": 4,
 "nbformat_minor": 1
}
