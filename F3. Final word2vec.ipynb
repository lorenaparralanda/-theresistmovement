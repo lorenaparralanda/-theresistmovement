{
 "cells": [
  {
   "cell_type": "markdown",
   "metadata": {},
   "source": [
    "# #resist word2vec"
   ]
  },
  {
   "cell_type": "code",
   "execution_count": 1,
   "metadata": {
    "collapsed": false
   },
   "outputs": [],
   "source": [
    "import pandas as pd\n",
    "import pickle\n",
    "import re\n",
    "import string\n",
    "import numpy as np\n",
    "import gensim\n",
    "from gensim import corpora, models, similarities, matutils\n",
    "from sklearn import datasets\n",
    "import matplotlib.pyplot as plt\n",
    "import warnings\n",
    "warnings.filterwarnings('ignore')"
   ]
  },
  {
   "cell_type": "code",
   "execution_count": 3,
   "metadata": {
    "collapsed": false
   },
   "outputs": [],
   "source": [
    "# Bring in all words for word2vec\n",
    "with open(\"all_words_word2vec.pkl\", 'rb') as picklefile:\n",
    "    all_words_word2vec = pickle.load(picklefile)"
   ]
  },
  {
   "cell_type": "code",
   "execution_count": 4,
   "metadata": {
    "collapsed": false
   },
   "outputs": [
    {
     "data": {
      "text/plain": [
       "68258"
      ]
     },
     "execution_count": 4,
     "metadata": {},
     "output_type": "execute_result"
    }
   ],
   "source": [
    "len(all_words_word2vec)"
   ]
  },
  {
   "cell_type": "code",
   "execution_count": 11,
   "metadata": {
    "collapsed": false
   },
   "outputs": [],
   "source": [
    "# Run model\n",
    "word2vec = gensim.models.Word2Vec(all_words_word2vec,min_count=1,workers=2,sg=2,window=5)"
   ]
  },
  {
   "cell_type": "code",
   "execution_count": 21,
   "metadata": {
    "collapsed": false
   },
   "outputs": [
    {
     "data": {
      "text/plain": [
       "75677"
      ]
     },
     "execution_count": 21,
     "metadata": {},
     "output_type": "execute_result"
    }
   ],
   "source": [
    "len(word2vec.vocab)"
   ]
  },
  {
   "cell_type": "code",
   "execution_count": 6,
   "metadata": {
    "collapsed": false
   },
   "outputs": [
    {
     "data": {
      "text/plain": [
       "array([ 0.16740035, -0.22889401,  0.76776785, -0.60555542, -0.05021639,\n",
       "        0.22535482, -0.53557116,  0.57678372, -0.27609837,  0.00523074,\n",
       "       -0.12347428, -0.28719768, -0.84098482,  0.42169824,  0.39351612,\n",
       "        0.6221289 , -0.14009427,  0.04194661,  0.13555221, -0.60314435,\n",
       "       -0.55109704, -0.15932715,  0.38133121,  0.14040482,  0.16956186,\n",
       "       -0.49879184, -0.01276224,  0.42648757, -0.21794736, -0.16415738,\n",
       "       -0.25759834, -0.00466329,  0.25806275, -0.41251054, -0.57755208,\n",
       "        0.07564314,  0.32140902,  0.31560898,  0.3986336 , -0.63142824,\n",
       "       -0.33232379,  0.24775444, -0.29824382,  0.20954475, -0.17689654,\n",
       "       -0.56667686,  0.41204846, -0.32643935,  0.21541838,  0.17856289,\n",
       "       -0.36499995, -0.02038983, -0.55637288, -0.04083065,  0.14106429,\n",
       "        0.22499314, -0.68947744,  0.57909507, -0.61034983, -0.17230128,\n",
       "        0.20262921, -0.06689877,  0.63295954,  0.1761923 ,  0.3526105 ,\n",
       "       -0.42973518, -0.26991832,  0.43918645, -0.22463562,  0.25678602,\n",
       "       -0.15984856, -0.16382608, -0.01429298,  0.23975883,  0.01443264,\n",
       "        0.19011091, -0.03305072,  0.26100343,  0.02321633, -0.34819257,\n",
       "        0.20706931, -0.10665097,  0.25255549,  0.18362543, -0.14373015,\n",
       "       -0.08148316, -0.12530309, -0.20527047,  0.43053395, -0.10587697,\n",
       "       -0.60927719,  0.11514385,  0.26592761, -0.26954862,  0.28232405,\n",
       "       -0.2424079 , -0.03945287, -0.40141404,  0.10015979, -0.67445993], dtype=float32)"
      ]
     },
     "execution_count": 6,
     "metadata": {},
     "output_type": "execute_result"
    }
   ],
   "source": [
    "# Sanity checks\n",
    "word2vec['#resist']"
   ]
  },
  {
   "cell_type": "code",
   "execution_count": 7,
   "metadata": {
    "collapsed": false
   },
   "outputs": [
    {
     "data": {
      "text/plain": [
       "[('#dumptrump', 0.8211203813552856),\n",
       " ('#truth', 0.8049231171607971),\n",
       " ('#notmypresident', 0.7983763813972473),\n",
       " ('#impeachtrump', 0.7933971881866455),\n",
       " ('#rt', 0.7912710309028625),\n",
       " ('#whyimarch', 0.7906962633132935),\n",
       " ('#impeach45', 0.7888158559799194),\n",
       " ('#uniteblue', 0.7855883836746216),\n",
       " ('#freedomofthepress', 0.7848169803619385),\n",
       " ('#impeachment', 0.783881425857544)]"
      ]
     },
     "execution_count": 7,
     "metadata": {},
     "output_type": "execute_result"
    }
   ],
   "source": [
    "word2vec.most_similar('#resist', topn=10)"
   ]
  },
  {
   "cell_type": "code",
   "execution_count": 8,
   "metadata": {
    "collapsed": false
   },
   "outputs": [
    {
     "data": {
      "text/plain": [
       "[('Trumps', 0.795193076133728),\n",
       " ('trump', 0.746462881565094),\n",
       " ('Donald', 0.7441942691802979),\n",
       " ('45', 0.7370822429656982),\n",
       " ('Putin', 0.7129913568496704),\n",
       " ('His', 0.7097365260124207),\n",
       " ('Pence', 0.7022476196289062),\n",
       " ('#Trumps', 0.6984566450119019),\n",
       " ('#45', 0.6981061697006226),\n",
       " ('45s', 0.689802885055542)]"
      ]
     },
     "execution_count": 8,
     "metadata": {},
     "output_type": "execute_result"
    }
   ],
   "source": [
    "word2vec.most_similar('Trump', topn=10)"
   ]
  },
  {
   "cell_type": "code",
   "execution_count": 9,
   "metadata": {
    "collapsed": false
   },
   "outputs": [
    {
     "data": {
      "text/plain": [
       "[('Clinton', 0.9577271342277527),\n",
       " ('votes', 0.85451340675354),\n",
       " ('HRC', 0.8543742895126343),\n",
       " ('won', 0.846910297870636),\n",
       " ('3M', 0.843429446220398),\n",
       " ('rallies', 0.8374966979026794),\n",
       " ('pretends', 0.834089457988739),\n",
       " ('urges', 0.8307631015777588),\n",
       " ('McConnell', 0.8282943964004517),\n",
       " ('candidate', 0.8260546326637268)]"
      ]
     },
     "execution_count": 9,
     "metadata": {},
     "output_type": "execute_result"
    }
   ],
   "source": [
    "word2vec.most_similar('Hillary', topn=10)"
   ]
  },
  {
   "cell_type": "code",
   "execution_count": 41,
   "metadata": {
    "collapsed": false
   },
   "outputs": [
    {
     "data": {
      "text/plain": [
       "{'Democratic': 0.8918685913085938,\n",
       " 'Dems': 0.8999563455581665,\n",
       " 'May': 0.8554732799530029,\n",
       " 'Move': 0.8795732259750366,\n",
       " 'Party': 0.8647011518478394,\n",
       " 'Ppl': 0.8686692714691162,\n",
       " 'Progressives': 0.8610978722572327,\n",
       " 'Reps': 0.8647107481956482,\n",
       " 'Republicans': 0.8779147267341614,\n",
       " 'Tea': 0.868355393409729,\n",
       " 'Unite': 0.8565325736999512,\n",
       " 'active': 0.8561571836471558,\n",
       " 'deportations': 0.8668700456619263,\n",
       " 'fully': 0.8580486178398132,\n",
       " 'laws': 0.8574749231338501,\n",
       " 'leaders': 0.8563169836997986,\n",
       " 'peaceful': 0.8575752973556519,\n",
       " 'seats': 0.8826193809509277,\n",
       " 'unity': 0.854499340057373,\n",
       " 'urges': 0.8712327480316162}"
      ]
     },
     "execution_count": 41,
     "metadata": {},
     "output_type": "execute_result"
    }
   ],
   "source": [
    "# Prepare for functions\n",
    "answer = word2vec.most_similar('Democrats', topn=20)\n",
    "dict(answer)"
   ]
  },
  {
   "cell_type": "code",
   "execution_count": 46,
   "metadata": {
    "collapsed": false
   },
   "outputs": [],
   "source": [
    "def find_results(t):\n",
    "    results = word2vec.most_similar(str(t), topn=20)\n",
    "    results = dict(results)\n",
    "    results = [{'name': k, 'value': str(v)} for k,v in results.items()]\n",
    "    results.append({'name': t, 'value': str(1)})\n",
    "    print results"
   ]
  }
 ],
 "metadata": {
  "anaconda-cloud": {},
  "kernelspec": {
   "display_name": "Python 2",
   "language": "python",
   "name": "python2"
  },
  "language_info": {
   "codemirror_mode": {
    "name": "ipython",
    "version": 2
   },
   "file_extension": ".py",
   "mimetype": "text/x-python",
   "name": "python",
   "nbconvert_exporter": "python",
   "pygments_lexer": "ipython2",
   "version": "2.7.12"
  }
 },
 "nbformat": 4,
 "nbformat_minor": 1
}
