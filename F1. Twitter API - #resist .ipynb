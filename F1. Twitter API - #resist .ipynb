{
 "cells": [
  {
   "cell_type": "markdown",
   "metadata": {},
   "source": [
    "# COLLECTING TWEETS USING TWEEPY"
   ]
  },
  {
   "cell_type": "code",
   "execution_count": 1,
   "metadata": {
    "collapsed": false
   },
   "outputs": [],
   "source": [
    "from requests_oauthlib import OAuth1\n",
    "import tweepy\n",
    "import cnfg\n",
    "import requests\n",
    "import json\n",
    "import time\n",
    "import tweepy\n",
    "\n",
    "config = cnfg.load(\".twitter_config\")\n",
    "\n",
    "auth = tweepy.OAuthHandler(config[\"consumer_key\"],\n",
    "                           config[\"consumer_secret\"])\n",
    "\n",
    "auth.set_access_token(config[\"access_token\"],\n",
    "                      config[\"access_token_secret\"])\n",
    "\n",
    "api=tweepy.API(auth)"
   ]
  },
  {
   "cell_type": "code",
   "execution_count": 2,
   "metadata": {
    "collapsed": true
   },
   "outputs": [],
   "source": [
    "# CONNECT TO MONGO IN MY AWS\n",
    "from pymongo import MongoClient\n",
    "client = MongoClient('ec2-##-###-###-###.compute-1.amazonaws.com', ####)"
   ]
  },
  {
   "cell_type": "code",
   "execution_count": 91,
   "metadata": {
    "collapsed": false
   },
   "outputs": [],
   "source": [
    "# CREATE PROJECT DATABASE\n",
    "fletcher = client.fletcher"
   ]
  },
  {
   "cell_type": "code",
   "execution_count": 25,
   "metadata": {
    "collapsed": false
   },
   "outputs": [
    {
     "data": {
      "text/plain": [
       "0"
      ]
     },
     "execution_count": 25,
     "metadata": {},
     "output_type": "execute_result"
    }
   ],
   "source": [
    "# CREATE COLLECTION\n",
    "resist = client.fletcher.resist\n",
    "resist.count()"
   ]
  },
  {
   "cell_type": "code",
   "execution_count": 22,
   "metadata": {
    "collapsed": false
   },
   "outputs": [],
   "source": [
    "# CREATE ROWS FUNCTION\n",
    "\n",
    "def createdict(tweet, somecollection):    \n",
    "    data = {}\n",
    "    data['id'] = tweet.id_str\n",
    "    data[\"author\"] = str(tweet.author)\n",
    "    data[\"user\"] = str(tweet.user)\n",
    "    data['tweet'] = tweet.text.encode('utf-8') \n",
    "    data['datetime'] = str(tweet.created_at)\n",
    "    data[\"location\"] = str(tweet.place)\n",
    "    data[\"coordinates\"] = str(tweet.coordinates)\n",
    "    data[\"language\"] = str(tweet.lang)\n",
    "    data[\"favorited\"] = str(tweet.favorited)\n",
    "    data[\"favorites_count\"] = str(tweet.favorite_count)\n",
    "    data[\"is_quote\"] = str(tweet.is_quote_status)\n",
    "    data[\"retweet\"] = str(tweet.retweet) \n",
    "    data[\"retweet_count\"] = str(tweet.retweet_count) \n",
    "    data[\"retweeted\"] = str(tweet.retweeted) \n",
    "    data[\"retweeted_count\"] = str(tweet.retweeted) \n",
    "    data[\"retweets\"] = str(tweet.retweets) \n",
    "    data[\"replied_to_id\"] = str(tweet.in_reply_to_user_id)\n",
    "    data[\"replied_to_name\"] = str(tweet.in_reply_to_screen_name)   \n",
    "    data[\"contributors\"] = str(tweet.contributors)\n",
    "    data[\"entities\"] = str(tweet.entities)\n",
    "    data[\"source\"] = tweet.source \n",
    "    data[\"source_url\"] = str(tweet.source_url)\n",
    "    data[\"truncated\"] = str(tweet.truncated) \n",
    "    somecollection.insert_one(data)"
   ]
  },
  {
   "cell_type": "markdown",
   "metadata": {},
   "source": [
    "# #Resist"
   ]
  },
  {
   "cell_type": "code",
   "execution_count": null,
   "metadata": {
    "collapsed": false
   },
   "outputs": [],
   "source": [
    "# COLLECT TWEETS\n",
    "\n",
    "c = tweepy.Cursor(api.search, q='#resist', include_entities=True).items()\n",
    "\n",
    "while True:\n",
    "    try:\n",
    "        tweet = c.next()\n",
    "        createdict(tweet, resist)\n",
    "    except tweepy.TweepError:\n",
    "        time.sleep(60 * 15)\n",
    "        continue\n",
    "    except StopIteration:\n",
    "        print \"Stop\"\n",
    "        break"
   ]
  }
 ],
 "metadata": {
  "anaconda-cloud": {},
  "kernelspec": {
   "display_name": "Python [conda root]",
   "language": "python",
   "name": "conda-root-py"
  },
  "language_info": {
   "codemirror_mode": {
    "name": "ipython",
    "version": 2
   },
   "file_extension": ".py",
   "mimetype": "text/x-python",
   "name": "python",
   "nbconvert_exporter": "python",
   "pygments_lexer": "ipython2",
   "version": "2.7.12"
  }
 },
 "nbformat": 4,
 "nbformat_minor": 1
}
